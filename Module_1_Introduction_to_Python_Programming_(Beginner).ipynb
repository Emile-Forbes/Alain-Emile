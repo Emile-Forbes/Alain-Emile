{
  "nbformat": 4,
  "nbformat_minor": 0,
  "metadata": {
    "colab": {
      "provenance": [],
      "collapsed_sections": [
        "WrOowJKW1iyM"
      ],
      "authorship_tag": "ABX9TyOMa5XfTy8xSXuwzGkC39om",
      "include_colab_link": true
    },
    "kernelspec": {
      "name": "python3",
      "display_name": "Python 3"
    },
    "language_info": {
      "name": "python"
    }
  },
  "cells": [
    {
      "cell_type": "markdown",
      "metadata": {
        "id": "view-in-github",
        "colab_type": "text"
      },
      "source": [
        "<a href=\"https://colab.research.google.com/github/Emile-Forbes/Alain-Emile/blob/Dev/Module_1_Introduction_to_Python_Programming_(Beginner).ipynb\" target=\"_parent\"><img src=\"https://colab.research.google.com/assets/colab-badge.svg\" alt=\"Open In Colab\"/></a>"
      ]
    },
    {
      "cell_type": "code",
      "source": [
        "from google.colab import drive\n",
        "drive.mount('/content/gdrive')\n"
      ],
      "metadata": {
        "colab": {
          "base_uri": "https://localhost:8080/"
        },
        "id": "IupAsXcJ0voe",
        "outputId": "b5ec395b-d2a4-432f-8936-0b436344d8fb"
      },
      "execution_count": null,
      "outputs": [
        {
          "output_type": "stream",
          "name": "stdout",
          "text": [
            "Mounted at /content/gdrive\n"
          ]
        }
      ]
    },
    {
      "cell_type": "markdown",
      "source": [
        "#Module 1: Introduction to Python Programming (Beginner)\n",
        "\n",
        "Week 1: Python Basics\n",
        "Introduction to Python\n",
        "\n",
        "Installing Python & Jupyter Notebooks\n",
        "\n",
        "Python IDEs: Jupyter, PyCharm, VS Code\n"
      ],
      "metadata": {
        "id": "1Xf2ILdi1Hge"
      }
    },
    {
      "cell_type": "code",
      "source": [],
      "metadata": {
        "id": "4Eq8RRwU1MqE"
      },
      "execution_count": null,
      "outputs": []
    },
    {
      "cell_type": "markdown",
      "source": [
        "\n",
        "1. **[Variables and Data Types](#1)**\n",
        "\n",
        "2. **[Integers, Floats, Strings, Lists, Tuples, Dictionaries](#2)**\n",
        "\n",
        "3. **[Type Casting and Type Checking](#3)**\n",
        "\n",
        "4. **[Basic Operators](#4)**\n",
        "\n",
        "5. **[Arithmetic, Comparison, Logical, and Assignment Operators](#5)**\n",
        "\n",
        "6. **[Conditional Statements: if-else, elif](#6)**\n",
        "\n",
        "7. **[Loops: for and while loops](#7)**\n",
        "\n",
        "8. **[Iterating over lists, dictionaries, ranges](#8)**\n",
        "\n",
        "9. **[Functions](#9)**\n",
        "\n",
        "10. **[Defining and Calling Functions](#10)**\n",
        "\n",
        "11. **[Arguments, Return Values, Default Arguments, Lambda Functions](#11)**"
      ],
      "metadata": {
        "id": "_wU3iM442Bp3"
      }
    },
    {
      "cell_type": "markdown",
      "source": [],
      "metadata": {
        "id": "zcc-5sPWL9P5"
      }
    },
    {
      "cell_type": "markdown",
      "source": [
        "<a name=\"1\"></a>\n",
        "#1. Variables and Data Types\n",
        "\n"
      ],
      "metadata": {
        "id": "njP40M9Z481u"
      }
    },
    {
      "cell_type": "markdown",
      "source": [
        "##1.1 Variable Definition\n",
        "Variable Naming Rules:\n",
        "Variable names must start with a letter (a-z, A-Z) or an underscore (_).\n",
        "The rest of the variable name can include letters, digits (0-9), and underscores.\n",
        "\n",
        "Variable names are case-sensitive (age, Age, and AGE are different).\n",
        "\n",
        "Avoid using Python keywords (e.g., if, else, for) as variable names."
      ],
      "metadata": {
        "id": "tlCFvxdi7ZI6"
      }
    },
    {
      "cell_type": "code",
      "source": [
        "age = 25  # integer assignment\n",
        "name = \"Alice\"  # string assignment\n",
        "is_active = True  # boolean assignment\n",
        "height = 5.9  # float assignment\n",
        "salary = 4500.00\n",
        "hotel =\"Hilton\"\n"
      ],
      "metadata": {
        "id": "o2SR7V2N6loV"
      },
      "execution_count": null,
      "outputs": []
    },
    {
      "cell_type": "markdown",
      "source": [
        "##1.2 Variable Naming Rules:\n",
        "Variable names must start with a letter (a-z, A-Z) or an underscore (_).\n",
        "\n",
        "The rest of the variable name can include letters, digits (0-9), and underscores.\n",
        "\n",
        "Variable names are case-sensitive (age, Age, and AGE are different).\n",
        "\n",
        "Avoid using Python keywords (e.g., if, else, for) as variable names."
      ],
      "metadata": {
        "id": "zKSHZkb97L7T"
      }
    },
    {
      "cell_type": "markdown",
      "source": [],
      "metadata": {
        "id": "ZXcYJfVo76Y6"
      }
    },
    {
      "cell_type": "code",
      "source": [
        "\"\"\"!NOTE:\n",
        "Python keywords, such as if, else, for, while, etc., should not be used as variable names.\n",
        "Invalid Variable Names (using Python keywords):\n",
        "1age = 30           # Invalid: starts with a digit\n",
        "@height = 5.5       # Invalid: starts with an invalid character (@)\n",
        "height_1 = 5.9      # Contains a number, but starts with a letter/underscore\n",
        "user_name = \"John\"  # Contains underscores and letters\n",
        "age_1_year = 26     # Contains underscores and digits\"\"\"\n",
        "\n"
      ],
      "metadata": {
        "colab": {
          "base_uri": "https://localhost:8080/",
          "height": 53
        },
        "collapsed": true,
        "id": "Zdidd9-r6-hz",
        "outputId": "389d0c72-fc30-43c0-be21-9567870aeb84"
      },
      "execution_count": null,
      "outputs": [
        {
          "output_type": "execute_result",
          "data": {
            "text/plain": [
              "'!NOTE:\\nPython keywords, such as if, else, for, while, etc., should not be used as variable names.\\nInvalid Variable Names (using Python keywords):\\n1age = 30           # Invalid: starts with a digit\\n@height = 5.5       # Invalid: starts with an invalid character (@)\\nheight_1 = 5.9      # Contains a number, but starts with a letter/underscore\\nuser_name = \"John\"  # Contains underscores and letters\\nage_1_year = 26     # Contains underscores and digits'"
            ],
            "application/vnd.google.colaboratory.intrinsic+json": {
              "type": "string"
            }
          },
          "metadata": {},
          "execution_count": 3
        }
      ]
    },
    {
      "cell_type": "code",
      "source": [
        "age = 25\n",
        "Age = 30\n",
        "AGE = 35\n",
        "\n",
        "print(age)  # Output: 25\n",
        "print(Age)  # Output: 30\n",
        "print(AGE)  # Output: 35\n"
      ],
      "metadata": {
        "collapsed": true,
        "id": "tbWDuEtH8ZFY",
        "colab": {
          "base_uri": "https://localhost:8080/"
        },
        "outputId": "19fdd10d-09df-4fd3-cff4-daca91fbf03a"
      },
      "execution_count": null,
      "outputs": [
        {
          "output_type": "stream",
          "name": "stdout",
          "text": [
            "25\n",
            "30\n",
            "35\n"
          ]
        }
      ]
    },
    {
      "cell_type": "code",
      "source": [
        "#Python keywords, such as if, else, for, while, etc., should not be used as variable names.\n",
        "#Invalid Variable Names (using Python keywords):\n",
        "\"\"\"NOTE!\n",
        "if = 10         # Invalid: 'if' is a reserved keyword\n",
        "for = \"loop\"    # Invalid: 'for' is a reserved keyword\n",
        "else = False    # Invalid: 'else' is a reserved keyword\"\"\"\n"
      ],
      "metadata": {
        "id": "YKPc-AFG8gK1",
        "colab": {
          "base_uri": "https://localhost:8080/",
          "height": 35
        },
        "outputId": "ac03c9c5-6117-4150-f478-7f04ed3fceab"
      },
      "execution_count": null,
      "outputs": [
        {
          "output_type": "execute_result",
          "data": {
            "text/plain": [
              "'NOTE!\\nif = 10         # Invalid: \\'if\\' is a reserved keyword\\nfor = \"loop\"    # Invalid: \\'for\\' is a reserved keyword\\nelse = False    # Invalid: \\'else\\' is a reserved keyword'"
            ],
            "application/vnd.google.colaboratory.intrinsic+json": {
              "type": "string"
            }
          },
          "metadata": {},
          "execution_count": 5
        }
      ]
    },
    {
      "cell_type": "code",
      "source": [
        "#Valid Variable Names (Avoiding Keywords):\n",
        "if_var = 10         # Valid: not using the keyword 'if' as variable name\n",
        "for_loop = \"loop\"   # Valid: using 'for' as part of a name is fine\n",
        "else_condition = False  # Valid: using 'else' as part of a name is fine\n",
        "\n"
      ],
      "metadata": {
        "id": "3TYxf6tL82nl"
      },
      "execution_count": null,
      "outputs": []
    },
    {
      "cell_type": "code",
      "source": [],
      "metadata": {
        "id": "LX63IniZ9I1x"
      },
      "execution_count": null,
      "outputs": []
    },
    {
      "cell_type": "markdown",
      "source": [
        "##1.3 Data Types in python\n",
        "Learn about the primitive data types in Python.\n",
        "\n",
        "Strings\n",
        "Integers\n",
        "Floats\n",
        "Booleans"
      ],
      "metadata": {
        "id": "4Z_WDsDy9N0H"
      }
    },
    {
      "cell_type": "code",
      "source": [
        "#1- Numerical data types\n",
        "age = 25 #integer aka int\n",
        "salary = -4500 # negative int\n",
        "\n",
        "print(type(age))\n",
        "print(type(salary))\n",
        "\n",
        "# 2- Floats\n",
        "height = 5.9  # float type\n",
        "temperature = 36.6  # float type\n",
        "\n",
        "print(type(height))\n",
        "print(type(temperature))\n",
        "\n",
        "# 3- complex Numbers\n",
        "\n",
        "complex_num = 3 + 4j\n",
        "print(type(complex_num))  # Output: <class 'complex'>\n",
        "\n",
        "#4 Sequence data types (string , str)\n",
        "name = \"Alice\"\n",
        "message = 'Hello, World!'\n",
        "greeting = '''Good Morning!'''\n",
        "\n",
        "print(type(name))\n",
        "print(type(message))\n",
        "print(type(greeting))\n",
        "\n"
      ],
      "metadata": {
        "id": "NsB611Ms9fj-",
        "colab": {
          "base_uri": "https://localhost:8080/"
        },
        "outputId": "33bc0021-7fde-4c8d-a042-9c6c19f8daa7"
      },
      "execution_count": null,
      "outputs": [
        {
          "output_type": "stream",
          "name": "stdout",
          "text": [
            "<class 'int'>\n",
            "<class 'int'>\n",
            "<class 'float'>\n",
            "<class 'float'>\n",
            "<class 'complex'>\n",
            "<class 'str'>\n",
            "<class 'str'>\n",
            "<class 'str'>\n"
          ]
        }
      ]
    },
    {
      "cell_type": "code",
      "source": [
        "#Type error, checking and conversion\n",
        "\n",
        "\"\"\" len(12345) gives an error because you can only give len function string\n",
        "This gives you a type error\"\"\"\n",
        "len(\"12345\")\n",
        "\n",
        "#Type conversion\n",
        "\"\"\"You can convert data into different data types using special functions. e.g.\n",
        "float(), int(),str()\"\"\""
      ],
      "metadata": {
        "colab": {
          "base_uri": "https://localhost:8080/",
          "height": 35
        },
        "id": "m5Z31e5fnBPN",
        "outputId": "5ece01dc-c33c-4e9f-879e-bd631ead0fd1"
      },
      "execution_count": null,
      "outputs": [
        {
          "output_type": "execute_result",
          "data": {
            "text/plain": [
              "'You can convert data into different data types using special functions. e.g.\\nfloat(), int(),str()'"
            ],
            "application/vnd.google.colaboratory.intrinsic+json": {
              "type": "string"
            }
          },
          "metadata": {},
          "execution_count": 8
        }
      ]
    },
    {
      "cell_type": "code",
      "source": [
        "# Use Case\n",
        "name = input(\"Enter your name: \")\n",
        "age = int(input(\"Enter your age: \"))    # convert from string to int\n",
        "print(\"In 5 years, \" + name + \" will be \" + str(age + 5))"
      ],
      "metadata": {
        "id": "i6uvKz1QoNbU"
      },
      "execution_count": null,
      "outputs": []
    },
    {
      "cell_type": "markdown",
      "source": [],
      "metadata": {
        "id": "qgUhmRGd_C_A"
      }
    },
    {
      "cell_type": "markdown",
      "source": [
        "<a name=\"2\"></a>\n",
        "#2 Integers, Floats, Strings, Lists, Tuples, Dictionaries"
      ],
      "metadata": {
        "id": "qepOORn7_LvE"
      }
    },
    {
      "cell_type": "markdown",
      "source": [
        "## 2.1  Integers in Python\n",
        "What is an Integer?\n",
        "An integer is a whole number, which can be positive, negative, or zero. It does not have any decimal points.\n",
        "\n",
        "Creating Integers\n",
        "You can create an integer by directly assigning a whole number to a variable.\n"
      ],
      "metadata": {
        "id": "ZvReDVmV_39C"
      }
    },
    {
      "cell_type": "code",
      "source": [
        "#1 Examples\n",
        "x = 10  # positive integer\n",
        "y = -5  # negative integer\n",
        "z = 0   # zero\n",
        "\n",
        "\n",
        "#2 Integer Operations\n",
        "#Python provides a variety of arithmetic operators for integers:\n",
        "a = 5\n",
        "b = 3\n",
        "\n",
        "#3 Arithmetic operations\n",
        "sum_result = a + b  # Addition\n",
        "diff_result = a - b  # Subtraction\n",
        "prod_result = a * b  # Multiplication\n",
        "quot_result = a / b  # Division (returns float)\n",
        "int_quot_result = a // b  # Floor division (returns integer)\n",
        "mod_result = a % b  # Modulus (remainder)\n",
        "pow_result = a ** b  # Exponentiation\n",
        "\n",
        "print(sum_result, diff_result, prod_result, quot_result, int_quot_result, mod_result, pow_result)\n"
      ],
      "metadata": {
        "id": "Tp3xQiZ4_dOn"
      },
      "execution_count": null,
      "outputs": []
    },
    {
      "cell_type": "code",
      "source": [
        "## Use cases\n",
        "\"\"\"Pemdas order of operations\"\"\"\n",
        "print(3 * 3 + 3 / 3 - 3)\n",
        "\n",
        "#https://appbrewery.github.io/python-day2-demo/\n"
      ],
      "metadata": {
        "id": "eIG8lt0_p1xM"
      },
      "execution_count": null,
      "outputs": []
    },
    {
      "cell_type": "code",
      "source": [
        "\"\"\"** Task: 1\n",
        "We're going to build a tip calculator. If the bill was $150.00, split between 5 people, with 12% tip.\n",
        "Each person should pay:(150.00 / 5) * 1.12 = 33.6, After formatting the result to 2 decimal places = 33.60\n",
        "Demo https://appbrewery.github.io/python-day2-demo/\n",
        "\n",
        "Very Optional Reading: Floating Point Arithmetic\n",
        "https://docs.python.org/3/tutorial/floatingpoint.html\"\"\""
      ],
      "metadata": {
        "id": "DzjBPVAWqVmF"
      },
      "execution_count": null,
      "outputs": []
    },
    {
      "cell_type": "code",
      "source": [
        "print(\"Welcome to the tip calculator!\")\n",
        "bill = float(input(\"What was the total bill? $\"))\n",
        "tip = int(input(\"What percentage tip would you like to give? 10 12 15 \"))\n",
        "people = int(input(\"How many people to split the bill? \"))\n",
        "tip_as_percent = tip / 100\n",
        "total_tip_amount = bill * tip_as_percent\n",
        "total_bill = bill + total_tip_amount\n",
        "bill_per_person = total_bill / people\n",
        "final_amount = round(bill_per_person, 2)\n",
        "print(f\"Each person should pay: ${final_amount}\")"
      ],
      "metadata": {
        "id": "WhxNkIiBrNCF"
      },
      "execution_count": null,
      "outputs": []
    },
    {
      "cell_type": "markdown",
      "source": [
        "##2.2 Floats in Python\n",
        "What is a Float?\n",
        "A float is a number that contains a decimal point. Floats can represent real numbers, and they are typically used when more precision is needed than integers can provide.\n",
        "\n",
        "Creating Floats\n",
        "You can create a float by assigning a number with a decimal point or using scientific notation."
      ],
      "metadata": {
        "id": "AQVEiE2WAgHf"
      }
    },
    {
      "cell_type": "code",
      "source": [
        "# 1 -creating a float\n",
        "x = 5.75  # positive float\n",
        "y = -3.14  # negative float\n",
        "z = 0.0    # float with zero value\n"
      ],
      "metadata": {
        "id": "wVQFdv01AoVL"
      },
      "execution_count": null,
      "outputs": []
    },
    {
      "cell_type": "code",
      "source": [
        "# 2 -Float Operations\n",
        "\"\"\"Floats also support all basic arithmetic operations,\n",
        " like integers. However, some operations may return\n",
        " floating-point results even when the operands are integers.\"\"\"\n",
        "a = 10.5\n",
        "b = 3.0\n",
        "\n",
        "sum_result = a + b  # Addition\n",
        "diff_result = a - b  # Subtraction\n",
        "prod_result = a * b  # Multiplication\n",
        "quot_result = a / b  # Division\n",
        "pow_result = a ** b  # Exponentiation\n",
        "\n",
        "print(sum_result, diff_result, prod_result, quot_result, pow_result)\n"
      ],
      "metadata": {
        "id": "EqaX6tszA1WF"
      },
      "execution_count": null,
      "outputs": []
    },
    {
      "cell_type": "code",
      "source": [],
      "metadata": {
        "id": "r75x3ZdnBPny"
      },
      "execution_count": null,
      "outputs": []
    },
    {
      "cell_type": "markdown",
      "source": [
        "##2.3 Strings\n",
        "A string is a sequence of characters enclosed in quotes. Python allows both single (') and double (\") quotes for defining strings."
      ],
      "metadata": {
        "id": "L5hC6ajqBVBG"
      }
    },
    {
      "cell_type": "code",
      "source": [
        "#1 -Creating a string\n",
        "\n",
        "s1 = \"Hello, World!\"  # String with double quotes\n",
        "s2 = 'Python Programming'  # String with single quotes\n",
        "s3 = \"\"\"This is\n",
        "a multi-line\n",
        "string.\"\"\"  # Multi-line string\n",
        "\n"
      ],
      "metadata": {
        "id": "fmtNXMOyBfQH"
      },
      "execution_count": null,
      "outputs": []
    },
    {
      "cell_type": "code",
      "source": [
        "#2 Strings are Arrays\n",
        "a = \"Hello, World!\"\n",
        "print(a[1])\n"
      ],
      "metadata": {
        "id": "pSVzj4Hlra05"
      },
      "execution_count": null,
      "outputs": []
    },
    {
      "cell_type": "code",
      "source": [
        "#3 Looping through strings\n",
        "for x in \"Hello World!\":\n",
        "  print(x)"
      ],
      "metadata": {
        "collapsed": true,
        "id": "APRqvbEqrvaW"
      },
      "execution_count": null,
      "outputs": []
    },
    {
      "cell_type": "code",
      "source": [
        "#print length\n",
        "a =\"Hello World\"\n",
        "print(len(a))"
      ],
      "metadata": {
        "id": "Yq9UIMr2r4vT"
      },
      "execution_count": null,
      "outputs": []
    },
    {
      "cell_type": "code",
      "source": [
        "#4 Slicing String\n",
        "a = \"Hello World!\"\n",
        "print(a[1])\n",
        "print(a[2:5])\n",
        "print(a[:5])\n",
        "print(a[-1])"
      ],
      "metadata": {
        "id": "_6e8xFt2sMW_"
      },
      "execution_count": null,
      "outputs": []
    },
    {
      "cell_type": "code",
      "source": [
        "#5 Modifying Strings\n",
        "a = \"Hello a World!\"\n",
        "print(a.upper()) #converts str into uppercase\n",
        "print(a.lower()) #converts str to lowercase\n",
        "print(a.strip()) #removes blank space\n",
        "print(a.strip('He')) #removes He\n",
        "print(a.replace(\"H\", \"J\")) #replaces letters\n",
        "print(a.split(\",\"))\n",
        "\n",
        "b = \"apple,banana,grape\"\n",
        "print(b.split(\",\"))\n",
        "\n",
        "\n",
        "\n"
      ],
      "metadata": {
        "id": "whQo5cHrsvqj"
      },
      "execution_count": null,
      "outputs": []
    },
    {
      "cell_type": "code",
      "source": [
        "#6 Merge string\n",
        "a = \"Hello\"\n",
        "b = \"World\"\n",
        "c = a + b\n",
        "print(c)\n",
        "\n",
        "a = \"Hello\"\n",
        "b = \"World\"\n",
        "d = a + \" \" + b\n",
        "print(d)"
      ],
      "metadata": {
        "id": "BJPeKh2Hug1B"
      },
      "execution_count": null,
      "outputs": []
    },
    {
      "cell_type": "code",
      "source": [
        "# 7Python - Format - Strings\n",
        "\"\"\"This will have a syntax error\n",
        "because we are combining string and int\n",
        "\n",
        "age = 38\n",
        "txt = \"My name is John, I am \" + age\n",
        "print(txt)\"\"\""
      ],
      "metadata": {
        "id": "SKw-ojW-u40G"
      },
      "execution_count": null,
      "outputs": []
    },
    {
      "cell_type": "code",
      "source": [
        "\"\"\"Solutin is using F-string\n",
        "\"\"\"\n",
        "salary = 3600\n",
        "txt = f\"My name is John, I earn {salary} per week\"\n",
        "print(txt)\n",
        "\n",
        "#Maintaining a certain number of decimal places\n",
        "price = 59\n",
        "txt = f\"The price is {price:.2f} dollars\"\n",
        "print(txt)\n"
      ],
      "metadata": {
        "id": "qmjLiZJNvpq3"
      },
      "execution_count": null,
      "outputs": []
    },
    {
      "cell_type": "code",
      "source": [
        "# 8 escape string\n",
        "print('It\\'s sunny')\n",
        "print(\"It's sunny\")\n",
        "\"\"\"print('It's sunny') will fail\"\"\"\n",
        "print('C:\\\\\\\\Users\\\\\\\\') #code keeps C:\\\\Users\\\\\n",
        "print('Hello\\nWorld') # new line\n",
        "print('Hello\\tWorld') #tab\n",
        "print('Hello\\bWorld') #backspace\n",
        "print('Hello\\rWorld') #carriage return\n",
        "print('Hello\\fWorld') #form feed\n",
        "print('Hello\\vWorld') #vertical tab\n"
      ],
      "metadata": {
        "id": "ImFkOBATwyig"
      },
      "execution_count": null,
      "outputs": []
    },
    {
      "cell_type": "markdown",
      "source": [
        "##2.4 List\n",
        "Lists are used to store multiple items in a single variable.\n",
        "\n",
        "Lists are one of 4 built-in data types in Python used to store collections of data, the other 3 are Tuple, Set, and Dictionary, all with different qualities and usage."
      ],
      "metadata": {
        "id": "WrOowJKW1iyM"
      }
    },
    {
      "cell_type": "code",
      "source": [
        "#1 Creating this a list\n",
        "fruits =[\"Apples\", \"Oranges\", \"Cherry\"]\n",
        "print(fruits)\n",
        "\n",
        "#2 Allow duplicates\n",
        "my_list = [1, 2, 2, 3, 4, 4, 5]\n",
        "print(my_list)\n",
        "\n",
        "#3 remove duplicates\n",
        "\n",
        "\n",
        "4# remove duplicates using loop\n",
        "my_list = [1, 2, 3, 4,4, 6, 2, 5]\n",
        "unique_list = []  # build a new list from scratch. It starts with blank\n",
        "for x in my_list:\n",
        "  if x not in unique_list:\n",
        "    unique_list.append(x)\n",
        "print(unique_list)\n",
        "\n",
        "fruits =[1,2,1,2,1,23,12]\n",
        "distinct_fruits =[]\n",
        "for x in fruits:\n",
        "  if x not in distinct_fruits:\n",
        "    unique_list.append(x)\n",
        "print(distinct_fruits)\n",
        "\n",
        "#5 access list\n",
        "thislist = [\"apple\", \"banana\", \"cherry\", \"avocado\", \"berries\", \"Oranges\"]\n",
        "print(thislist[1]) # second item on list\n",
        "print(thislist[-1]) # last item on list\n",
        "print(thislist[2:5]) # third to fourth item\n",
        "print(thislist[:4])\n",
        "print(thislist[-4:-1])\n",
        "\n",
        "#6 change item on list\n",
        "thislist = [\"apple\", \"banana\", \"cherry\", \"avocado\", \"berries\", \"Oranges\"]\n",
        "thislist[1] = \"Mangoes\"\n",
        "print(thislist)\n",
        "\n",
        "#7 change range of items\n",
        "fruits = [\"apple\", \"banana\", \"cherry\", \"avocado\", \"berries\", \"Oranges\"]\n",
        "fruits[1:3] = [\"blackcurrant\", \"watermelon\"]\n",
        "print(fruits)\n",
        "\n",
        "#7 add items to list\n",
        "fruits = [\"apple\", \"banana\", \"cherry\", \"avocado\", \"berries\", \"Oranges\"]\n",
        "fruits.append(\"orange\")\n",
        "print(fruits)\n",
        "\n",
        "#8 insert specifies wherer to make the addition\n",
        "\"\"\"To insert a list item at a specified index, use the insert() method.\"\"\"\n",
        "fruits = [\"apple\", \"banana\", \"cherry\", \"avocado\", \"berries\", \"Oranges\"]\n",
        "fruits.insert(1, \"orange\") # second on the list\n",
        "print(fruits)\n",
        "\n",
        "#9 Loop Through the Index Numbers -for loop\n",
        "thislist = [\"apple\", \"banana\", \"cherry\", \"avocado\", \"berries\", \"Oranges\"]\n",
        "for i in range(len(thislist)):\n",
        "  print(thislist[i])\n",
        "\n",
        "#10 Using a While Loop\n",
        "thislist = [\"apple\", \"banana\", \"cherry\", \"avocado\", \"berries\", \"Oranges\"]\n",
        "i = 0\n",
        "while i < len(thislist):\n",
        "  print(thislist[i])\n",
        "  i = i + 1\n",
        "\n",
        "#11 List Comprehension\n",
        "fruits = [\"apple\", \"banana\", \"cherry\", \"kiwi\", \"mango\"]\n",
        "newlist = []\n",
        "\n",
        "for x in fruits:\n",
        "  if \"a\" in x:\n",
        "    newlist.append(x)\n",
        "\n",
        "print(newlist)\n",
        "\n",
        "#12 Sort List Alphanumerically\n",
        "list = [\"orange\", \"mango\", \"kiwi\", \"pineapple\", \"banana\"]\n",
        "list.sort()\n",
        "print(list)\n",
        "\n",
        "thislist = [\"orange\", \"mango\", \"kiwi\", \"pineapple\", \"banana\"]\n",
        "thislist.sort(reverse = True)\n",
        "print(thislist)\n",
        "\n",
        "#13 Use the list() method\n",
        "thislist = [\"apple\", \"banana\", \"cherry\"]\n",
        "mylist = thislist[:]\n",
        "print(mylist)\n",
        "\n",
        "#14 join two list\n",
        "list1 = [\"a\", \"b\", \"c\"]\n",
        "list2 = [1, 2, 3]\n",
        "\n",
        "list3 = list1 + list2\n",
        "print(list3)\n",
        "\n",
        "#15 append list2 into list\n",
        "list1 = [\"a\", \"b\" , \"c\"]\n",
        "list2 = [1, 2, 3]\n",
        "\n",
        "for x in list2:\n",
        "  list1.append(x)\n",
        "\n",
        "  print(list1)\n",
        "\n",
        "#16 Use the extend() method\n",
        "list1 = [\"a\", \"b\" , \"c\"]\n",
        "list2 = [1, 2, 3]\n",
        "\n",
        "list1.extend(list2)\n",
        "\n",
        "print(list1)\n",
        "\n",
        "\n",
        "\n"
      ],
      "metadata": {
        "id": "CclO5qcmyStY"
      },
      "execution_count": null,
      "outputs": []
    },
    {
      "cell_type": "code",
      "source": [
        "# difference btn two list\n",
        "\n",
        "list1 = [1, 2, 3, 4, 5]\n",
        "list2 = [4, 5, 6, 7]\n",
        "\n",
        "# Elements in list1 but not in list2\n",
        "# Use the built-in list function by its original name to avoid the error\n",
        "# list was overwritten in previous code, now using builtins.list to restore\n",
        "import builtins\n",
        "diff1 = builtins.list(set(list1) - set(list2))\n",
        "# Elements in list2 but not in list1\n",
        "diff2 = builtins.list(set(list2) - set(list1))\n",
        "\n",
        "print(\"Difference (list1 - list2):\", diff1)\n",
        "print(\"Difference (list2 - list1):\", diff2)"
      ],
      "metadata": {
        "id": "-BOhLsix4Ver"
      },
      "execution_count": null,
      "outputs": []
    },
    {
      "cell_type": "markdown",
      "source": [
        "##2.5 Python Tuples\n",
        "Tuples are used to store multiple items in a single variable.\n",
        "\n",
        "Tuple is one of 4 built-in data types in Python used to store collections of data, the other 3 are List, Set, and Dictionary, all with different qualities and usage.\n",
        "\n",
        "A tuple is a collection which is ordered and unchangeable. Note that tuples use ()"
      ],
      "metadata": {
        "id": "sDvKbvUnSr2d"
      }
    },
    {
      "cell_type": "code",
      "source": [
        "#1 Tuples allow duplicate\n",
        "thistuple = (\"apple\", \"banana\", \"cherry\", \"apple\", \"cherry\")\n",
        "print(thistuple)\n",
        "\n",
        "#2 Tuple Length\n",
        "thistuple = (\"apple\", \"banana\", \"cherry\")\n",
        "print(len(thistuple))\n",
        "\n",
        "#3 print list\n",
        "thistuple = (\"apple\", \"banana\", \"cherry\")\n",
        "print(thistuple[1])\n",
        "\n"
      ],
      "metadata": {
        "id": "H_Ay_PKCIhfs"
      },
      "execution_count": null,
      "outputs": []
    },
    {
      "cell_type": "code",
      "source": [
        "#4 Negative Indexing\n",
        "thistuple = (\"apple\", \"banana\", \"cherry\")\n",
        "print(thistuple[-1])\n",
        "\n",
        "#5 Range of Indexes\n",
        "thistuple = (\"apple\", \"banana\", \"cherry\", \"orange\", \"kiwi\", \"melon\", \"mango\")\n",
        "print(thistuple[2:5])\n",
        "\n"
      ],
      "metadata": {
        "id": "Rmki_q-TSpjO"
      },
      "execution_count": null,
      "outputs": []
    },
    {
      "cell_type": "code",
      "source": [
        "\"\"\" Tuples are unchangeable, meaning that you cannot change, add, or remove items once the tuple is created.\n",
        "But there are some workarounds. You can convert the tuple into a list, change the list, and convert the list back into a tuple.\n",
        "\"\"\"\n",
        "\n",
        "#3 Adding new items need to use builtins as list objects are not callable\n",
        "\"\"\"thistuple = (\"apple\", \"banana\", \"cherry\")\n",
        "y = list(thistuple)\n",
        "y.append(\"orange\")\n",
        "thistuple = tuple(y)\n",
        "print(thistuple)\"\"\"\n",
        "\n",
        "#4 Remove items\n",
        "\"\"\"thistuple = (\"apple\", \"banana\", \"cherry\")\n",
        "y = list(thistuple)\n",
        "y.remove(\"apple\")\n",
        "thistuple = tuple(y)\n",
        "print(y)\"\"\"\n",
        "\n",
        "#5 Convert Tuple to list then make a change\n",
        "\"\"\"x = (\"apple\", \"banana\", \"cherry\")\n",
        "y = list(x)\n",
        "y[1] = \"kiwi\"\n",
        "x = tuple(y)\"\"\"\n",
        "\n",
        "import builtins\n",
        "y = builtins.list(thistuple)  # Use builtins.list to avoid the error\n",
        "y.append(\"orange\")\n",
        "thistuple = tuple(y)\n",
        "print(thistuple)\n",
        "\n",
        "print(x)\n",
        "\n",
        "\n"
      ],
      "metadata": {
        "id": "o8plI5cPZmk-"
      },
      "execution_count": null,
      "outputs": []
    },
    {
      "cell_type": "code",
      "source": [
        "#6 looping in with tuples -based on the position of the items\n",
        "thistuple = (\"apple\", \"banana\", \"cherry\", \"orange\", \"mango\")\n",
        "for x in thistuple:\n",
        "  print(x)\n",
        "\n",
        "thistuple = (\"apple\", \"banana\", \"cherry\", \"orange\", \"mango\")\n",
        "for i in range(len(thistuple)):\n",
        "  print(thistuple[i])\n",
        "\n",
        "\n",
        "Thistuple = (\"apple1\", \"banana2\", \"cherry\", \"orange\", \"mango\")\n",
        "for i in Thistuple:\n",
        "  print(i)\n"
      ],
      "metadata": {
        "id": "sr_MA1YKlb5B"
      },
      "execution_count": null,
      "outputs": []
    },
    {
      "cell_type": "markdown",
      "source": [
        "##2.6 Python Sets\n",
        "A set in Python is an unordered collection of unique items. This means:\n",
        "\n",
        "It cannot contain duplicate elements.\n",
        "\n",
        "The order of elements in a set is not preserved (i.e., the elements have no specific order).\n",
        "\n",
        "Sets are used when you want to store a collection of items where duplicates are not allowed, and the order doesn't matter"
      ],
      "metadata": {
        "id": "goH9bmCtltl6"
      }
    },
    {
      "cell_type": "code",
      "source": [
        "my_set = {1, 2, 3, 4}\n",
        "print(my_set)  # Output: {1, 2, 3, 4}\n",
        "\n",
        "# Duplicates are automatically removed\n",
        "my_set_with_duplicates = {1, 2, 3, 3, 4}\n",
        "print(my_set_with_duplicates)  # Output: {1, 2, 3, 4}\n",
        "\n"
      ],
      "metadata": {
        "id": "eht2RZejmNUo"
      },
      "execution_count": null,
      "outputs": []
    },
    {
      "cell_type": "code",
      "source": [
        "set1 = {1, 2, 3, 4}\n",
        "set2 = {3, 4, 5, 6}\n",
        "\n",
        "# Union\n",
        "print(set1 | set2)  # Output: {1, 2, 3, 4, 5, 6}\n",
        "\n",
        "# Intersection\n",
        "print(set1 & set2)  # Output: {3, 4}\n",
        "\n",
        "# Difference\n",
        "print(set1 - set2)  # Output: {1, 2}\n"
      ],
      "metadata": {
        "id": "_kf0XgQyma1_"
      },
      "execution_count": null,
      "outputs": []
    },
    {
      "cell_type": "code",
      "source": [
        "#playing with list and sets\n",
        "# Define two lists\n",
        "list1 = [1, 2, 3, 4, 5]\n",
        "list2 = [4, 5, 6, 7, 8]\n",
        "\n",
        "# Convert lists to sets\n",
        "set1 = set(list1)\n",
        "set2 = set(list2)\n",
        "\n",
        "# Apply Union (all unique elements from both sets)\n",
        "union_result = set1 | set2  # or set1.union(set2)\n",
        "print(\"Union:\", union_result)\n",
        "\n",
        "# Apply Intersection (common elements between both sets)\n",
        "intersection_result = set1 & set2  # or set1.intersection(set2)\n",
        "print(\"Intersection:\", intersection_result)\n",
        "\n",
        "# Apply Difference (elements in set1 but not in set2)\n",
        "difference_result = set1 - set2  # or set1.difference(set2)\n",
        "print(\"Difference (set1 - set2):\", difference_result)\n",
        "\n",
        "# Apply Symmetric Difference (elements in either set, but not in both)\n",
        "symmetric_difference_result = set1 ^ set2  # or set1.symmetric_difference(set2)\n",
        "print(\"Symmetric Difference:\", symmetric_difference_result)\n"
      ],
      "metadata": {
        "id": "N7tWKbhmmiAF"
      },
      "execution_count": null,
      "outputs": []
    },
    {
      "cell_type": "markdown",
      "source": [],
      "metadata": {
        "id": "IGD5be4ZmwbR"
      }
    },
    {
      "cell_type": "markdown",
      "source": [
        "##2.7 Python Dictionaries\n",
        "Dictionaries are used to store data values in key:value pairs.\n",
        "A dictionary is a collection which is ordered*, changeable and do not allow duplicates."
      ],
      "metadata": {
        "id": "ELfStitSjMWc"
      }
    },
    {
      "cell_type": "code",
      "source": [
        "#1 Creating a dictionary\n",
        "my_dict = {\n",
        "    \"name\": \"John\",\n",
        "    \"age\": 30,\n",
        "    \"city\": \"New York\"\n",
        "}\n",
        "print(my_dict)\n",
        "\n",
        "\"\"\"Dictionaries are ordered, meaning that the items have a defined order, and that order will not change.\n",
        "Unordered means that the items does not have a defined order, you cannot refer to an item by using an index.\n",
        "These values can be of any data type: string, int, boolean, and list data types.\n",
        "\"\"\""
      ],
      "metadata": {
        "id": "gMw3Dq_8jepY"
      },
      "execution_count": null,
      "outputs": []
    },
    {
      "cell_type": "code",
      "source": [
        "#2 Dictionary does not allow duplicates\n",
        "\n",
        "my_dict = {\n",
        "    \"name\": \"John\",\n",
        "    \"age\": 30,\n",
        "    \"city\": \"New York\",\n",
        "    \"name\": \"Jane\"  # Duplicate key, will be overwritten\n",
        "}\n",
        "print(my_dict)\n",
        "\n",
        "\"\"\"Dictionaries are changeable, meaning that we can change, add or remove items after the dictionary has been created.\n",
        "   the values will only take the last value\n",
        "\"\"\"\n",
        "# test cases\n",
        "\n"
      ],
      "metadata": {
        "id": "r5gXU9mbjoF1"
      },
      "execution_count": null,
      "outputs": []
    },
    {
      "cell_type": "code",
      "source": [
        "# 3 access dictionary\n",
        "my_dict = {\n",
        "    \"name\": \"John\",\n",
        "    \"age\": 30,\n",
        "    \"city\": \"New York\"\n",
        "}\n",
        "print(my_dict[\"name\"])  # Output: John\n",
        "\n",
        "#using get()\n",
        "x = my_dict.get(\"name\")\n",
        "print(x)\n",
        "\n",
        "#4 change value\n",
        "my_dict = {\n",
        "    \"name\": \"John\",\n",
        "    \"age\": 30,\n",
        "    \"city\": \"New York\"\n",
        "}\n",
        "my_dict[\"age\"] = 35\n",
        "print(my_dict)\n",
        "\n",
        "\n",
        "\"\"\"The keys() method will return a list of all the keys in the dictionary.\n",
        "The values() method will return a list of all the values in the dictionary.\n",
        "The items() method will return each item in a dictionary, as tuples in a list.\n",
        "\"\"\"\n",
        "#keys: will retrn a lost of all the keys in the dictionary\n",
        "my_dict = {\n",
        "    \"name\": \"John\",\n",
        "    \"age\": 30,\n",
        "    \"city\": \"New York\"\n",
        "}\n",
        "print(my_dict.keys())\n",
        "\n",
        "#values\n",
        "print(my_dict.values())\n",
        "\n",
        "#items\n",
        "print(my_dict.items())"
      ],
      "metadata": {
        "id": "2LJiWU31kn9c"
      },
      "execution_count": null,
      "outputs": []
    },
    {
      "cell_type": "code",
      "source": [],
      "metadata": {
        "id": "GebCsRX_ocmc"
      },
      "execution_count": null,
      "outputs": []
    },
    {
      "cell_type": "code",
      "source": [
        "#4 Copy dictionary & Loops\n",
        "\n",
        "my_dict ={\"Name\":\"Jame\", \"Age\":30, \"City\":\"Yaounde\"}\n",
        "new_dict = my_dict.copy()\n",
        "print(new_dict)\n",
        "\n",
        "for x in my_dict:\n",
        "  print(x)\n",
        "\n",
        "#if I just wanna print values\n",
        "for z in my_dict.values():\n",
        "  print(z)\n",
        "\n",
        "for z in my_dict.keys():\n",
        "  print(z)\n",
        "#or items\n",
        "for y in my_dict.items():\n",
        "  print(y)\n"
      ],
      "metadata": {
        "id": "KKIJawCGp6z_"
      },
      "execution_count": null,
      "outputs": []
    },
    {
      "cell_type": "code",
      "source": [
        "#Nested Dictionaries\n",
        "myfamily = {\n",
        "  \"child1\" : {\n",
        "    \"name\" : \"Emil\",\n",
        "    \"year\" : 2004\n",
        "  },\n",
        "  \"child2\" : {\n",
        "    \"name\" : \"Tobias\",\n",
        "    \"year\" : 2007\n",
        "  },\n",
        "  \"child3\" : {\n",
        "    \"name\" : \"Linus\",\n",
        "    \"year\" : 2011\n",
        "  }\n",
        "}\n",
        "print(myfamily[\"child2\"][\"name\"])"
      ],
      "metadata": {
        "id": "x4gSDCBArLfp"
      },
      "execution_count": null,
      "outputs": []
    },
    {
      "cell_type": "markdown",
      "source": [
        "<a name=\"3\"></a>\n",
        "#3. Type Casting and Type Checking\n",
        "\n",
        "Type casting is the process of converting data in python from one data type to another\n"
      ],
      "metadata": {
        "id": "xW1peonK06RX"
      }
    },
    {
      "cell_type": "code",
      "source": [
        "#1 implicit tpe casting\n",
        "\n",
        "z =10  #int\n",
        "x = 2.5 #float\n",
        "\n",
        "result = z + x\n",
        "print(result)\n",
        "print(type(result)) # class is float"
      ],
      "metadata": {
        "id": "e9q0GRlJ1fVo"
      },
      "execution_count": null,
      "outputs": []
    },
    {
      "cell_type": "code",
      "source": [
        "#2 explicit\n",
        "a = \"123\"\n",
        "b = int(a)    # Convert string to integer\n",
        "print(b + 5)  # 128\n",
        "\n",
        "x = 9\n",
        "y = str(x)    # Convert integer to string\n",
        "print(y + \"1\")  # \"91\"\n",
        "\n"
      ],
      "metadata": {
        "id": "Pk6-MdTd2MEA"
      },
      "execution_count": null,
      "outputs": []
    },
    {
      "cell_type": "markdown",
      "source": [],
      "metadata": {
        "id": "qh_9DXZX2WQR"
      }
    },
    {
      "cell_type": "markdown",
      "source": [
        "<a name=\"4\"></a>\n",
        "#4. Basic Operations"
      ],
      "metadata": {
        "id": "xl1rDKfu2Xjq"
      }
    },
    {
      "cell_type": "code",
      "source": [
        "#1 Assignment\n",
        "x = 5\n",
        "x += 2  # Same as x = x + 2\n",
        "print(x)  # 7\n"
      ],
      "metadata": {
        "id": "aaUQvOqQMofm"
      },
      "execution_count": null,
      "outputs": []
    },
    {
      "cell_type": "code",
      "source": [
        "#2  Logical Operators -conditional statements\n",
        "\n",
        "x = 5\n",
        "print(x > 3 and x < 10)  # True\n",
        "print(not(x > 3))        # False\n",
        "\n",
        "#3List Operations\n",
        "fruits = [\"apple\", \"banana\"]\n",
        "fruits.append(\"cherry\")   # Add item\n",
        "print(fruits[1])          # Access item: banana\n",
        "\n"
      ],
      "metadata": {
        "id": "b--KgM91My9U"
      },
      "execution_count": null,
      "outputs": []
    },
    {
      "cell_type": "code",
      "source": [],
      "metadata": {
        "id": "U1CsZ_t-Ned3"
      },
      "execution_count": null,
      "outputs": []
    },
    {
      "cell_type": "markdown",
      "source": [
        "<a name=\"5\"></a>\n",
        "#5. Arithmetic, Comparison, Logical, and Assignment Operators"
      ],
      "metadata": {
        "id": "gZajUtayL-l7"
      }
    }
  ]
}